{
 "cells": [
  {
   "cell_type": "code",
   "execution_count": 1,
   "metadata": {},
   "outputs": [
    {
     "data": {
      "application/javascript": [
       "\n",
       "try {\n",
       "require(['notebook/js/codecell'], function(codecell) {\n",
       "  codecell.CodeCell.options_default.highlight_modes[\n",
       "      'magic_text/x-csrc'] = {'reg':[/^%%microblaze/]};\n",
       "  Jupyter.notebook.events.one('kernel_ready.Kernel', function(){\n",
       "      Jupyter.notebook.get_cells().map(function(cell){\n",
       "          if (cell.cell_type == 'code'){ cell.auto_highlight(); } }) ;\n",
       "  });\n",
       "});\n",
       "} catch (e) {};\n"
      ]
     },
     "metadata": {},
     "output_type": "display_data"
    },
    {
     "data": {
      "application/javascript": [
       "\n",
       "try {\n",
       "require(['notebook/js/codecell'], function(codecell) {\n",
       "  codecell.CodeCell.options_default.highlight_modes[\n",
       "      'magic_text/x-csrc'] = {'reg':[/^%%pybind11/]};\n",
       "  Jupyter.notebook.events.one('kernel_ready.Kernel', function(){\n",
       "      Jupyter.notebook.get_cells().map(function(cell){\n",
       "          if (cell.cell_type == 'code'){ cell.auto_highlight(); } }) ;\n",
       "  });\n",
       "});\n",
       "} catch (e) {};\n"
      ]
     },
     "metadata": {},
     "output_type": "display_data"
    }
   ],
   "source": [
    "from pynq import Overlay\n",
    "base = Overlay(\"base.bit\")\n",
    "\n",
    "def code():\n",
    "    '''\n",
    "    return Morse code dictionary\n",
    "    '''\n",
    "\n",
    "    CODE = {\n",
    "        'A':'.-',\n",
    "        'B':'-...',\n",
    "        'C':'-.-.',\n",
    "        'D':'-..',\n",
    "        'E':'.',\n",
    "        'F':'..-.',\n",
    "        'G':'--.',\n",
    "        'H':'....',\n",
    "        'I':'..',\n",
    "        'J':'.---',\n",
    "        'K':'-.-',\n",
    "        'L':'.-..',\n",
    "        'M':'--',\n",
    "        'N':'-.',\n",
    "        'O':'---',\n",
    "        'P':'.--.',\n",
    "        'Q':'--.-',\n",
    "        'R':'.-.',\n",
    "        'S':'...',\n",
    "        'T':'-',\n",
    "        'U':'..-',\n",
    "        'V':'...-',\n",
    "        'W':'.--',\n",
    "        'X':'-..-',\n",
    "        'Y':'-.--',\n",
    "        'Z':'--..',\n",
    "        '1':'.----',\n",
    "        '2':'..---',\n",
    "        '3':'...--',\n",
    "        '4':'....-',\n",
    "        '5':'.....',\n",
    "        '6':'-....',\n",
    "        '7':'--...',\n",
    "        '8':'---..',\n",
    "        '9':'----.',\n",
    "        '0':'-----',\n",
    "        ',':'--..--',\n",
    "        '.':'.-.-.-',\n",
    "        '?':'..--..',\n",
    "        '/':'-..-.',\n",
    "        '-':'-....-',\n",
    "        '(':'-.--.',\n",
    "        ')':'-.--.-'\n",
    "        }\n",
    "\n",
    "    return CODE\n",
    "\n",
    "def dot():\n",
    "    base.leds[0].on()\n",
    "    sleep(.2)\n",
    "    base.leds[0].off()\n",
    "def dash():\n",
    "    base.leds[0].on()\n",
    "    sleep(.6)\n",
    "    base.leds[0].off()"
   ]
  },
  {
   "cell_type": "code",
   "execution_count": null,
   "metadata": {},
   "outputs": [],
   "source": [
    "from time import sleep # so the sleep in dot and dash function\n",
    "\n",
    "# write code here using code(), dot(), and dash() to display the message in morse code\n",
    "\n",
    "message = \"PYNQ ROX\""
   ]
  }
 ],
 "metadata": {
  "kernelspec": {
   "display_name": "Python 3",
   "language": "python",
   "name": "python3"
  },
  "language_info": {
   "codemirror_mode": {
    "name": "ipython",
    "version": 3
   },
   "file_extension": ".py",
   "mimetype": "text/x-python",
   "name": "python",
   "nbconvert_exporter": "python",
   "pygments_lexer": "ipython3",
   "version": "3.6.5"
  }
 },
 "nbformat": 4,
 "nbformat_minor": 2
}
